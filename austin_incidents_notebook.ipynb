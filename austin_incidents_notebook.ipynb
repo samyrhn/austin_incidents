{
 "cells": [
  {
   "cell_type": "code",
   "execution_count": 11,
   "metadata": {},
   "outputs": [],
   "source": [
    "from google.cloud import storage,bigquery\n",
    "import json\n",
    "import pandas as pd\n",
    "import datetime\n",
    "import numpy as np\n",
    "import gcsfs\n",
    "from pandas.io import gbq"
   ]
  },
  {
   "cell_type": "markdown",
   "metadata": {},
   "source": [
    "# Data transformation functions"
   ]
  },
  {
   "cell_type": "code",
   "execution_count": 2,
   "metadata": {},
   "outputs": [],
   "source": [
    "def fix_dict(dict_,date):\n",
    "    dict_['date'] = date\n",
    "    \n",
    "    if dict_['longitude']=='null':\n",
    "        dict_['longitude'] = None\n",
    "        \n",
    "    if dict_['latitude']=='null':\n",
    "        dict_['latitude'] = None\n",
    "    \n",
    "    if dict_['location']=='null':\n",
    "        dict_['location'] = None\n",
    "\n",
    "    dict_['timestamp'] = dict_['timestamp'][:-3] # removing \"+00\" to match standard timestmap format\n",
    "    \n",
    "    dict_.pop('unique_key', None)\n",
    "    dict_ = {k.capitalize():v for k,v in dict_.items()} #capitalizing first letters to match client's desired schema\n",
    "    return dict_"
   ]
  },
  {
   "cell_type": "markdown",
   "metadata": {},
   "source": [
    "# Creating a connection\n",
    "Initializing google cloud storage client and creating a connection to the desired bucket."
   ]
  },
  {
   "cell_type": "code",
   "execution_count": 3,
   "metadata": {},
   "outputs": [],
   "source": [
    "%%capture # every connection with GCP will include this line to suppress a warning regarding authentication which does not affect our code \n",
    "storage_client = storage.Client()\n",
    "bucket = storage_client.get_bucket('your_bucket')\n",
    "gcs_file_system = gcsfs.GCSFileSystem(project=\"your_project\")"
   ]
  },
  {
   "cell_type": "markdown",
   "metadata": {},
   "source": [
    "# Data\n",
    "Taking a first look at a random data point to understand our data structure."
   ]
  },
  {
   "cell_type": "code",
   "execution_count": 4,
   "metadata": {},
   "outputs": [],
   "source": [
    "blob_example = bucket.blob(r'2015-02-20/incidents.ndjson') # random date\n",
    "data_json_example = json.loads(blob_example.download_as_string(client=None))"
   ]
  },
  {
   "cell_type": "code",
   "execution_count": 5,
   "metadata": {},
   "outputs": [
    {
     "data": {
      "text/plain": [
       "{'unique_key': 2016530815,\n",
       " 'descript': 'THEFT',\n",
       " 'time': '12:00:00',\n",
       " 'address': '700 BLOCK RIO GRANDE ST',\n",
       " 'longitude': 'null',\n",
       " 'latitude': 'null',\n",
       " 'location': 'null',\n",
       " 'timestamp': '2015-02-20 18:00:00+00'}"
      ]
     },
     "execution_count": 5,
     "metadata": {},
     "output_type": "execute_result"
    }
   ],
   "source": [
    "data_json_example"
   ]
  },
  {
   "cell_type": "markdown",
   "metadata": {},
   "source": [
    "# Creating the GBQ Table"
   ]
  },
  {
   "cell_type": "code",
   "execution_count": 6,
   "metadata": {},
   "outputs": [],
   "source": [
    "%%capture\n",
    "PROJECT_ID = \"your_project\"\n",
    "DATASET_ID = \"your_dataset\"\n",
    "TABLE_ID = \"your_table\"\n",
    "\n",
    "client = bigquery.Client()\n",
    "\n",
    "# 1) create table\n",
    "schema = [\n",
    "            bigquery.SchemaField(\"Descript\", \"STRING\", mode=\"REQUIRED\"),\n",
    "            bigquery.SchemaField(\"Date\", \"DATE\", mode=\"REQUIRED\"),\n",
    "            bigquery.SchemaField(\"Time\", \"TIME\", mode=\"REQUIRED\"),\n",
    "            bigquery.SchemaField(\"Address\", \"STRING\", mode=\"REQUIRED\"),\n",
    "            bigquery.SchemaField(\"Longitude\", \"FLOAT\", mode=\"NULLABLE\"),\n",
    "            bigquery.SchemaField(\"Latitude\", \"FLOAT\", mode=\"NULLABLE\"),\n",
    "            bigquery.SchemaField(\"Location\", \"STRING\", mode=\"NULLABLE\"),\n",
    "            bigquery.SchemaField(\"Timestamp\", \"STRING\", mode=\"REQUIRED\")\n",
    "         ]\n",
    "\n",
    "table = bigquery.Table(f\"{PROJECT_ID}.{DATASET_ID}.{TABLE_ID}\", schema=schema)\n",
    "table = client.create_table(table)"
   ]
  },
  {
   "cell_type": "markdown",
   "metadata": {},
   "source": [
    "# Function creation\n",
    "Now we will define the function responsible for taking a date string as an input, retrieving the information related to that particular date, and uploading this information into our Google Big Query table."
   ]
  },
  {
   "cell_type": "code",
   "execution_count": 7,
   "metadata": {},
   "outputs": [],
   "source": [
    "def load_data(date_string):\n",
    "    global schema,table,client,gcs_file_system,cont\n",
    "    rows_to_insert = []\n",
    "    try:\n",
    "        datetime.datetime.strptime(date_string, '%Y-%m-%d')\n",
    "    except ValueError:\n",
    "        raise ValueError(\"Incorrect date format,input should be YYYY-MM-DD\")\n",
    "        \n",
    "    gcs_json_path = \"gs://your_bucket/{}/incidents.ndjson\".format(date_string)\n",
    "    \n",
    "    with gcs_file_system.open(gcs_json_path) as f:\n",
    "        json_data = [json.loads(line) for line in f] # for accessing jsons with multiple dictionaries inside\n",
    "    \n",
    "    for single_json in json_data:\n",
    "        single_json = fix_dict(single_json,date_string)\n",
    "        rows_to_insert.append(single_json)\n",
    "        cont = cont+1 # will be used to double check the amount of rows\n",
    "        \n",
    "    client.insert_rows(rows = rows_to_insert,table = table,selected_fields = schema)\n",
    "    return cont"
   ]
  },
  {
   "cell_type": "markdown",
   "metadata": {},
   "source": [
    "# Uploading the data to GBQ\n",
    "And saving it in a dataframe."
   ]
  },
  {
   "cell_type": "code",
   "execution_count": 8,
   "metadata": {},
   "outputs": [],
   "source": [
    "blobs = storage_client.list_blobs(bucket)    \n",
    "dates = [blob.name[0:10] for blob in blobs]"
   ]
  },
  {
   "cell_type": "code",
   "execution_count": 9,
   "metadata": {},
   "outputs": [
    {
     "name": "stdout",
     "output_type": "stream",
     "text": [
      "45122\n"
     ]
    }
   ],
   "source": [
    "cont = 0\n",
    "for date in dates:\n",
    "    load_data(date)\n",
    "    \n",
    "print(cont) # checking the amount of rows"
   ]
  },
  {
   "cell_type": "code",
   "execution_count": 19,
   "metadata": {},
   "outputs": [],
   "source": [
    "%%capture\n",
    "full_table_query = \"SELECT * FROM `your_project.your_dataset.your_table`\"\n",
    "df = gbq.read_gbq(full_table_query,project_id = 'your_project') # saving the full table in a dataframe"
   ]
  },
  {
   "cell_type": "code",
   "execution_count": 20,
   "metadata": {},
   "outputs": [
    {
     "data": {
      "text/html": [
       "<div>\n",
       "<style scoped>\n",
       "    .dataframe tbody tr th:only-of-type {\n",
       "        vertical-align: middle;\n",
       "    }\n",
       "\n",
       "    .dataframe tbody tr th {\n",
       "        vertical-align: top;\n",
       "    }\n",
       "\n",
       "    .dataframe thead th {\n",
       "        text-align: right;\n",
       "    }\n",
       "</style>\n",
       "<table border=\"1\" class=\"dataframe\">\n",
       "  <thead>\n",
       "    <tr style=\"text-align: right;\">\n",
       "      <th></th>\n",
       "      <th>Descript</th>\n",
       "      <th>Date</th>\n",
       "      <th>Time</th>\n",
       "      <th>Address</th>\n",
       "      <th>Longitude</th>\n",
       "      <th>Latitude</th>\n",
       "      <th>Location</th>\n",
       "      <th>Timestamp</th>\n",
       "    </tr>\n",
       "  </thead>\n",
       "  <tbody>\n",
       "    <tr>\n",
       "      <th>0</th>\n",
       "      <td>HARASSMENT</td>\n",
       "      <td>2015-11-24</td>\n",
       "      <td>12:00:00</td>\n",
       "      <td>1500 BLOCK GARDEN ST</td>\n",
       "      <td>NaN</td>\n",
       "      <td>NaN</td>\n",
       "      <td>None</td>\n",
       "      <td>2015-11-24 18:00:00</td>\n",
       "    </tr>\n",
       "    <tr>\n",
       "      <th>1</th>\n",
       "      <td>DEBIT CARD ABUSE</td>\n",
       "      <td>2015-12-19</td>\n",
       "      <td>12:00:00</td>\n",
       "      <td>2200 BLOCK LAWNMONT AVE</td>\n",
       "      <td>NaN</td>\n",
       "      <td>NaN</td>\n",
       "      <td>None</td>\n",
       "      <td>2015-12-19 18:00:00</td>\n",
       "    </tr>\n",
       "    <tr>\n",
       "      <th>2</th>\n",
       "      <td>THEFT OF SERVICE</td>\n",
       "      <td>2015-10-26</td>\n",
       "      <td>12:00:00</td>\n",
       "      <td>1000 BLOCK NORWOOD PARK BLVD</td>\n",
       "      <td>NaN</td>\n",
       "      <td>NaN</td>\n",
       "      <td>None</td>\n",
       "      <td>2015-10-26 18:00:00</td>\n",
       "    </tr>\n",
       "    <tr>\n",
       "      <th>3</th>\n",
       "      <td>THEFT</td>\n",
       "      <td>2015-12-30</td>\n",
       "      <td>21:07:00</td>\n",
       "      <td>2500 BLOCK W ANDERSON LN</td>\n",
       "      <td>NaN</td>\n",
       "      <td>NaN</td>\n",
       "      <td>None</td>\n",
       "      <td>2015-12-31 03:07:00</td>\n",
       "    </tr>\n",
       "    <tr>\n",
       "      <th>4</th>\n",
       "      <td>LOST PROP</td>\n",
       "      <td>2015-06-29</td>\n",
       "      <td>00:00:00</td>\n",
       "      <td>12500 BLOCK TREE LINE DR</td>\n",
       "      <td>NaN</td>\n",
       "      <td>NaN</td>\n",
       "      <td>None</td>\n",
       "      <td>2015-06-29 06:00:00</td>\n",
       "    </tr>\n",
       "    <tr>\n",
       "      <th>...</th>\n",
       "      <td>...</td>\n",
       "      <td>...</td>\n",
       "      <td>...</td>\n",
       "      <td>...</td>\n",
       "      <td>...</td>\n",
       "      <td>...</td>\n",
       "      <td>...</td>\n",
       "      <td>...</td>\n",
       "    </tr>\n",
       "    <tr>\n",
       "      <th>45117</th>\n",
       "      <td>POSS CONTROLLED SUB/OTHER</td>\n",
       "      <td>2016-04-04</td>\n",
       "      <td>22:40:00</td>\n",
       "      <td>500 BLOCK E 7TH ST</td>\n",
       "      <td>NaN</td>\n",
       "      <td>NaN</td>\n",
       "      <td>None</td>\n",
       "      <td>2016-04-05 04:40:00</td>\n",
       "    </tr>\n",
       "    <tr>\n",
       "      <th>45118</th>\n",
       "      <td>POSS CONTROLLED SUB/NARCOTIC</td>\n",
       "      <td>2016-04-04</td>\n",
       "      <td>21:42:00</td>\n",
       "      <td>1400 BLOCK WEBBERVILLE RD</td>\n",
       "      <td>NaN</td>\n",
       "      <td>NaN</td>\n",
       "      <td>None</td>\n",
       "      <td>2016-04-05 03:42:00</td>\n",
       "    </tr>\n",
       "    <tr>\n",
       "      <th>45119</th>\n",
       "      <td>CRIMINAL TRESPASS NOTICE</td>\n",
       "      <td>2016-04-04</td>\n",
       "      <td>10:25:00</td>\n",
       "      <td>200 BLOCK E 6TH ST</td>\n",
       "      <td>NaN</td>\n",
       "      <td>NaN</td>\n",
       "      <td>None</td>\n",
       "      <td>2016-04-04 16:25:00</td>\n",
       "    </tr>\n",
       "    <tr>\n",
       "      <th>45120</th>\n",
       "      <td>CRIMINAL MISCHIEF</td>\n",
       "      <td>2016-04-04</td>\n",
       "      <td>23:28:00</td>\n",
       "      <td>2100 BLOCK NOGALES TRL</td>\n",
       "      <td>NaN</td>\n",
       "      <td>NaN</td>\n",
       "      <td>None</td>\n",
       "      <td>2016-04-05 05:28:00</td>\n",
       "    </tr>\n",
       "    <tr>\n",
       "      <th>45121</th>\n",
       "      <td>CRIMINAL TRESPASS NOTICE</td>\n",
       "      <td>2016-04-04</td>\n",
       "      <td>19:05:00</td>\n",
       "      <td>2300 BLOCK GRACY FARMS LN</td>\n",
       "      <td>NaN</td>\n",
       "      <td>NaN</td>\n",
       "      <td>None</td>\n",
       "      <td>2016-04-05 01:05:00</td>\n",
       "    </tr>\n",
       "  </tbody>\n",
       "</table>\n",
       "<p>45122 rows × 8 columns</p>\n",
       "</div>"
      ],
      "text/plain": [
       "                           Descript       Date      Time  \\\n",
       "0                        HARASSMENT 2015-11-24  12:00:00   \n",
       "1                  DEBIT CARD ABUSE 2015-12-19  12:00:00   \n",
       "2                  THEFT OF SERVICE 2015-10-26  12:00:00   \n",
       "3                             THEFT 2015-12-30  21:07:00   \n",
       "4                         LOST PROP 2015-06-29  00:00:00   \n",
       "...                             ...        ...       ...   \n",
       "45117     POSS CONTROLLED SUB/OTHER 2016-04-04  22:40:00   \n",
       "45118  POSS CONTROLLED SUB/NARCOTIC 2016-04-04  21:42:00   \n",
       "45119      CRIMINAL TRESPASS NOTICE 2016-04-04  10:25:00   \n",
       "45120             CRIMINAL MISCHIEF 2016-04-04  23:28:00   \n",
       "45121      CRIMINAL TRESPASS NOTICE 2016-04-04  19:05:00   \n",
       "\n",
       "                            Address  Longitude  Latitude Location  \\\n",
       "0              1500 BLOCK GARDEN ST        NaN       NaN     None   \n",
       "1           2200 BLOCK LAWNMONT AVE        NaN       NaN     None   \n",
       "2      1000 BLOCK NORWOOD PARK BLVD        NaN       NaN     None   \n",
       "3          2500 BLOCK W ANDERSON LN        NaN       NaN     None   \n",
       "4          12500 BLOCK TREE LINE DR        NaN       NaN     None   \n",
       "...                             ...        ...       ...      ...   \n",
       "45117            500 BLOCK E 7TH ST        NaN       NaN     None   \n",
       "45118     1400 BLOCK WEBBERVILLE RD        NaN       NaN     None   \n",
       "45119            200 BLOCK E 6TH ST        NaN       NaN     None   \n",
       "45120        2100 BLOCK NOGALES TRL        NaN       NaN     None   \n",
       "45121     2300 BLOCK GRACY FARMS LN        NaN       NaN     None   \n",
       "\n",
       "                 Timestamp  \n",
       "0      2015-11-24 18:00:00  \n",
       "1      2015-12-19 18:00:00  \n",
       "2      2015-10-26 18:00:00  \n",
       "3      2015-12-31 03:07:00  \n",
       "4      2015-06-29 06:00:00  \n",
       "...                    ...  \n",
       "45117  2016-04-05 04:40:00  \n",
       "45118  2016-04-05 03:42:00  \n",
       "45119  2016-04-04 16:25:00  \n",
       "45120  2016-04-05 05:28:00  \n",
       "45121  2016-04-05 01:05:00  \n",
       "\n",
       "[45122 rows x 8 columns]"
      ]
     },
     "execution_count": 20,
     "metadata": {},
     "output_type": "execute_result"
    }
   ],
   "source": [
    "df"
   ]
  },
  {
   "cell_type": "markdown",
   "metadata": {},
   "source": [
    "# Demonstrational SQL Queries\n",
    "All of the next filters could be easily done using the Pandas library. The following queries are for demonstrational purposes only."
   ]
  },
  {
   "cell_type": "code",
   "execution_count": null,
   "metadata": {},
   "outputs": [],
   "source": [
    "\n",
    "# counting descripts \n",
    "descript_value_counts_query = \"\"\"SELECT Descript,COUNT(Descript) AS value_counts \n",
    "                                 FROM `your_project.your_dataset.your_table`\n",
    "                                 GROUP BY (Descript) \n",
    "                                 ORDER BY  value_counts DESC\"\"\"\n",
    "\n",
    "# returning data containing geographical information\n",
    "geo_data_query = \"\"\"SELECT *\n",
    "                    FROM `your_project.your_dataset.your_table`\n",
    "                    WHERE Longitude is not null\"\"\"\n",
    "\n",
    "# counting crimes per month. (With BigQuery, you cannot use the derived column within the same select,\n",
    "# hence the subquery)\n",
    "crimes_per_month_query = \"\"\"SELECT year_month,COUNT(year_month) AS value_counts\n",
    "                            FROM (\n",
    "                                SELECT LEFT(Timestamp,7) AS year_month\n",
    "                                FROM `your_project.your_dataset.your_table`\n",
    "                                )\n",
    "                            GROUP BY year_month\n",
    "                            ORDER BY value_counts DESC\n",
    "                            \"\"\""
   ]
  }
 ],
 "metadata": {
  "kernelspec": {
   "display_name": "Python 3",
   "language": "python",
   "name": "python3"
  },
  "language_info": {
   "codemirror_mode": {
    "name": "ipython",
    "version": 3
   },
   "file_extension": ".py",
   "mimetype": "text/x-python",
   "name": "python",
   "nbconvert_exporter": "python",
   "pygments_lexer": "ipython3",
   "version": "3.7.6"
  }
 },
 "nbformat": 4,
 "nbformat_minor": 5
}
